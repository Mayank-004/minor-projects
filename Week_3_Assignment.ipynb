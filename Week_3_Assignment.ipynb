{
  "nbformat": 4,
  "nbformat_minor": 0,
  "metadata": {
    "kernelspec": {
      "display_name": "Python 3",
      "language": "python",
      "name": "python3"
    },
    "language_info": {
      "codemirror_mode": {
        "name": "ipython",
        "version": 3
      },
      "file_extension": ".py",
      "mimetype": "text/x-python",
      "name": "python",
      "nbconvert_exporter": "python",
      "pygments_lexer": "ipython3",
      "version": "3.7.6"
    },
    "colab": {
      "name": "Week_3_Assignment.ipynb",
      "provenance": [],
      "include_colab_link": true
    }
  },
  "cells": [
    {
      "cell_type": "markdown",
      "metadata": {
        "id": "view-in-github",
        "colab_type": "text"
      },
      "source": [
        "<a href=\"https://colab.research.google.com/github/Mayank-004/minor-projects/blob/main/Week_3_Assignment.ipynb\" target=\"_parent\"><img src=\"https://colab.research.google.com/assets/colab-badge.svg\" alt=\"Open In Colab\"/></a>"
      ]
    },
    {
      "cell_type": "markdown",
      "metadata": {
        "id": "CuWcZvQMMS2p"
      },
      "source": [
        "# Week 3 Assignment\n",
        "* Download the \"Week_3_Assignment.ipynb\" notebook \n",
        "* Fill in the code in the cells marked with `# YOUR ANSWER HERE:` by answering the question/task defined in the cell above it starting with `GRADED:`\n",
        "* Code cells outside of `# YOUR ANSWER HERE:` will not be considered for grading. \n",
        "  * Feel free to write outside of it for debugging\n",
        "* Submit the updated notebook\n",
        "  * Make sure to save your changes before submitting it!"
      ]
    },
    {
      "cell_type": "code",
      "metadata": {
        "colab": {
          "base_uri": "https://localhost:8080/",
          "height": 204
        },
        "id": "UTBRB-nhMS2q",
        "outputId": "54d3324a-10ee-4c38-f536-9800ed4d1a8b"
      },
      "source": [
        "# IMPORT NECESSARY LIBRARIES AND DATA\n",
        "import pandas as pd\n",
        "import numpy as np\n",
        "nparr = np.arange(64).reshape(16, 4)\n",
        "# data location\n",
        "data_url = 'https://raw.githubusercontent.com/plotly/datasets/master/2011_february_us_airport_traffic.csv'\n",
        "a_df = pd.read_csv(data_url, header=0)\n",
        "a_df.head()\n"
      ],
      "execution_count": 1,
      "outputs": [
        {
          "output_type": "execute_result",
          "data": {
            "text/html": [
              "<div>\n",
              "<style scoped>\n",
              "    .dataframe tbody tr th:only-of-type {\n",
              "        vertical-align: middle;\n",
              "    }\n",
              "\n",
              "    .dataframe tbody tr th {\n",
              "        vertical-align: top;\n",
              "    }\n",
              "\n",
              "    .dataframe thead th {\n",
              "        text-align: right;\n",
              "    }\n",
              "</style>\n",
              "<table border=\"1\" class=\"dataframe\">\n",
              "  <thead>\n",
              "    <tr style=\"text-align: right;\">\n",
              "      <th></th>\n",
              "      <th>iata</th>\n",
              "      <th>airport</th>\n",
              "      <th>city</th>\n",
              "      <th>state</th>\n",
              "      <th>country</th>\n",
              "      <th>lat</th>\n",
              "      <th>long</th>\n",
              "      <th>cnt</th>\n",
              "    </tr>\n",
              "  </thead>\n",
              "  <tbody>\n",
              "    <tr>\n",
              "      <th>0</th>\n",
              "      <td>ORD</td>\n",
              "      <td>Chicago O'Hare International</td>\n",
              "      <td>Chicago</td>\n",
              "      <td>IL</td>\n",
              "      <td>USA</td>\n",
              "      <td>41.979595</td>\n",
              "      <td>-87.904464</td>\n",
              "      <td>25129</td>\n",
              "    </tr>\n",
              "    <tr>\n",
              "      <th>1</th>\n",
              "      <td>ATL</td>\n",
              "      <td>William B Hartsfield-Atlanta Intl</td>\n",
              "      <td>Atlanta</td>\n",
              "      <td>GA</td>\n",
              "      <td>USA</td>\n",
              "      <td>33.640444</td>\n",
              "      <td>-84.426944</td>\n",
              "      <td>21925</td>\n",
              "    </tr>\n",
              "    <tr>\n",
              "      <th>2</th>\n",
              "      <td>DFW</td>\n",
              "      <td>Dallas-Fort Worth International</td>\n",
              "      <td>Dallas-Fort Worth</td>\n",
              "      <td>TX</td>\n",
              "      <td>USA</td>\n",
              "      <td>32.895951</td>\n",
              "      <td>-97.037200</td>\n",
              "      <td>20662</td>\n",
              "    </tr>\n",
              "    <tr>\n",
              "      <th>3</th>\n",
              "      <td>PHX</td>\n",
              "      <td>Phoenix Sky Harbor International</td>\n",
              "      <td>Phoenix</td>\n",
              "      <td>AZ</td>\n",
              "      <td>USA</td>\n",
              "      <td>33.434167</td>\n",
              "      <td>-112.008056</td>\n",
              "      <td>17290</td>\n",
              "    </tr>\n",
              "    <tr>\n",
              "      <th>4</th>\n",
              "      <td>DEN</td>\n",
              "      <td>Denver Intl</td>\n",
              "      <td>Denver</td>\n",
              "      <td>CO</td>\n",
              "      <td>USA</td>\n",
              "      <td>39.858408</td>\n",
              "      <td>-104.667002</td>\n",
              "      <td>13781</td>\n",
              "    </tr>\n",
              "  </tbody>\n",
              "</table>\n",
              "</div>"
            ],
            "text/plain": [
              "  iata                            airport  ...        long    cnt\n",
              "0  ORD       Chicago O'Hare International  ...  -87.904464  25129\n",
              "1  ATL  William B Hartsfield-Atlanta Intl  ...  -84.426944  21925\n",
              "2  DFW    Dallas-Fort Worth International  ...  -97.037200  20662\n",
              "3  PHX   Phoenix Sky Harbor International  ... -112.008056  17290\n",
              "4  DEN                        Denver Intl  ... -104.667002  13781\n",
              "\n",
              "[5 rows x 8 columns]"
            ]
          },
          "metadata": {
            "tags": []
          },
          "execution_count": 1
        }
      ]
    },
    {
      "cell_type": "markdown",
      "metadata": {
        "id": "TId9bRTAMS2q"
      },
      "source": [
        "## GRADED SECTION A\n",
        "\n",
        "1. Determine the shape, number of dimensions and type of elements in the numpy array `nparr`\n",
        "2. Determine the median of all elements in `nparr`\n",
        "3. Determine the position (not the value) of the maximum value element in `nparr`\n",
        "4. Create an array of the same shape as `nparr` but filled with zeros\n",
        "5. Create an array of the same shape as `nparr` but filled with ones\n",
        "6. Create an array of the same shape as `nparr` but where all elements are the square root values\n",
        "7. Create an array result of shape `16` by `16` resulting from multiplication of nparr with transpose(`nparr`). Hint: use `np.dot`"
      ]
    },
    {
      "cell_type": "code",
      "metadata": {
        "id": "o2dcc1VXMS2r"
      },
      "source": [
        "# YOUR SECTION A ANSWER HERE (please use comments to number each of your answers)\n",
        "\n",
        "# ques1\n",
        "print(f'Dimension of dataset are {nparr.ndim}')\n",
        "\n",
        "print(f' shape of dataset is {nparr.shape}')\n",
        "\n",
        "print(f' type of dataset is {nparr.dtype}')\n",
        "\n",
        "# ques2\n",
        "\n",
        "print(f' median of dataset is {np.median(nparr)}')\n",
        "\n",
        "\n",
        "# ques3\n",
        "\n",
        "max_index = np.unravel_index(np.argmax(nparr, axis=None),nparr.shape) # finds column indices\n",
        "\n",
        "\n",
        "print(f'index of element with maximum value {max_index}')\n",
        "\n",
        "# ques4\n",
        "\n",
        "print(f'{np.zeros_like(nparr)}')\n",
        "\n",
        "# ques5\n",
        "\n",
        "print(f'{np.ones_like(nparr)}')\n",
        "\n",
        "# ques6\n",
        "\n",
        "print(f'{np.sqrt(nparr)}')\n",
        "\n",
        "# ques7\n",
        "\n",
        "nparr1=np.dot(nparr,nparr.T)\n",
        "\n",
        "print(f'{nparr1}')"
      ],
      "execution_count": null,
      "outputs": []
    },
    {
      "cell_type": "markdown",
      "metadata": {
        "id": "hRXyz3sPMS2r"
      },
      "source": [
        "## GRADED SECTION B\n",
        "\n",
        "The dataframe `a_df` loads the dataset that contains information on a number of categories regarding traffic (variable `cnt`) at US airports from February 2011.\n",
        "The dataset has already been loaded for you in the first code cell above.\n",
        " 1. Print the number of rows of the dataframe (ideally, you should format the print to put the thousands comma separator--as in `23,400` instead of `23400`\n",
        " 2. Print the names of all the columns of the dataframe\n",
        " 3. Print a subset of the dataframe containing the `19th` and the `7th` rows of the original dataframe (in that order).\n",
        " 4. Which US `state` has the `2nd` largest airport traffic?\n",
        " 5. Which state has the fewest (least) number of airports (i.e. the least amount of airports)?\n",
        " 6. Of the cities that have multiple airports, which one has the lowest total traffic for all airports?\n",
        " 7. What is the total airport traffic for New England airports?\n"
      ]
    },
    {
      "cell_type": "code",
      "metadata": {
        "id": "Khw-mQX9MS2r"
      },
      "source": [
        "# YOUR SECTION B ANSWER HERE (please use comments to number each of your answers)"
      ],
      "execution_count": null,
      "outputs": []
    },
    {
      "cell_type": "markdown",
      "metadata": {
        "id": "1lDRcUU4MS2r"
      },
      "source": [
        "# IMPORTANT: SECTION C"
      ]
    },
    {
      "cell_type": "markdown",
      "metadata": {
        "id": "NgRUpa0tMS2r"
      },
      "source": [
        "### Please list your top 3 (final) choices for a dataset and the datastory for each of those datasets that you would like to pursue and analyze."
      ]
    },
    {
      "cell_type": "code",
      "metadata": {
        "id": "3b4Drkb4MS2r"
      },
      "source": [
        "# YOUR SECTION C ANSWER HERE (please use comments to number each of your answers)"
      ],
      "execution_count": null,
      "outputs": []
    }
  ]
}